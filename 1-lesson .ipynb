{
  "metadata": {
    "vscode": {
      "interpreter": {
        "hash": "369f2c481f4da34e4445cda3fffd2e751bd1c4d706f27375911949ba6bb62e1c"
      }
    },
    "language_info": {
      "codemirror_mode": {
        "name": "python",
        "version": 3
      },
      "file_extension": ".py",
      "mimetype": "text/x-python",
      "name": "python",
      "nbconvert_exporter": "python",
      "pygments_lexer": "ipython3",
      "version": "3.8"
    },
    "kernelspec": {
      "name": "python",
      "display_name": "Python (Pyodide)",
      "language": "python"
    }
  },
  "nbformat_minor": 4,
  "nbformat": 4,
  "cells": [
    {
      "cell_type": "markdown",
      "source": "# **PYTHONDA DASTURLASH KURSI**",
      "metadata": {}
    },
    {
      "cell_type": "markdown",
      "source": "## **1-DARS: ASOSIY TUSHUNCHALAR.**",
      "metadata": {
        "heading_collapsed": true
      }
    },
    {
      "cell_type": "markdown",
      "source": "**Python** - yuqori darajadagi, umumiy maqsadli dasturlash tilidir. U **1991-yilda Gvido van Rossum** tomonidan ishlab chiqilgan! Uning dizayn falsafasi muhim chekinishdan foydalangan holda kodning o'qilishiga urg'u beradi. Uning til konstruksiyalari va ob'ektga yo'naltirilgan yondashuvi dasturchilarga kichik va yirik loyihalar uchun aniq, mantiqiy kod yozishda yordam berishga qaratilgan. Quyida ushbu dasturlash tilining asosiy tushunchalarini o’rganishga qaratilgan bir nechta mavzular mavjud! Har bir ma’lumotni diqqat bilan o’rganib, o’zingizda ko’proq amaliyot qiling!",
      "metadata": {}
    },
    {
      "cell_type": "markdown",
      "source": "### **Pythonda matematik amallar!**",
      "metadata": {}
    },
    {
      "cell_type": "markdown",
      "source": "> Pythonda raqamlar ustida matematik amallarni bajarish uchun ishlatilishi mumkin bo'lgan operatorlar to'plami mavjud.\n\n<table>\n    <tr>\n        <th>Operatorlar</th>\n        <th>Operator nomlanishi</th>\n        <th>Unga misol</th>\n    </tr>\n    <tr>\n        <td>**</td>\n        <td>Darajaga ko’tarish</td>\n        <td>2 ** 3 = 8</td>\n    </tr>\n    <tr>\n        <td>%</td>\n        <td>Modulo. Qoldiqni chiqarish</td>\n        <td>22 % 8 = 6</td>\n    </tr>\n    <tr>\n        <td>//</td>\n        <td>Bo’lish va butun qismini chiqarish</td>\n        <td>22 // 8 = 2</td>\n    </tr>\n    <tr>\n        <td>/</td>\n        <td>Bo’lish</td>\n        <td>22 / 8 = 2.75</td>\n    </tr>\n    <tr>\n        <td>*</td>\n        <td>Ko’paytirish</td>\n        <td>3 * 3 = 9</td>\n    </tr>\n    <tr>\n        <td>-</td>\n        <td>Ayirish</td>\n        <td>5 - 2 = 3</td>\n    </tr>\n    <tr>\n        <td>+</td>\n        <td>Qo'shish</td>\n        <td>2 + 2 = 4</td>\n    </tr>\n</table>",
      "metadata": {}
    },
    {
      "cell_type": "code",
      "source": "2 + 3 * 6",
      "metadata": {},
      "execution_count": 1,
      "outputs": [
        {
          "execution_count": 1,
          "output_type": "execute_result",
          "data": {
            "text/plain": [
              "20"
            ]
          },
          "metadata": {}
        }
      ]
    },
    {
      "cell_type": "code",
      "source": "(2 + 3) * 6",
      "metadata": {},
      "execution_count": 2,
      "outputs": [
        {
          "execution_count": 2,
          "output_type": "execute_result",
          "data": {
            "text/plain": [
              "30"
            ]
          },
          "metadata": {}
        }
      ]
    },
    {
      "cell_type": "code",
      "source": "2 ** 8",
      "metadata": {},
      "execution_count": 3,
      "outputs": [
        {
          "execution_count": 3,
          "output_type": "execute_result",
          "data": {
            "text/plain": [
              "256"
            ]
          },
          "metadata": {}
        }
      ]
    },
    {
      "cell_type": "code",
      "source": "23 // 7",
      "metadata": {},
      "execution_count": 4,
      "outputs": [
        {
          "execution_count": 4,
          "output_type": "execute_result",
          "data": {
            "text/plain": [
              "3"
            ]
          },
          "metadata": {}
        }
      ]
    },
    {
      "cell_type": "code",
      "source": "23 % 7",
      "metadata": {},
      "execution_count": 5,
      "outputs": [
        {
          "execution_count": 5,
          "output_type": "execute_result",
          "data": {
            "text/plain": [
              "2"
            ]
          },
          "metadata": {}
        }
      ]
    },
    {
      "cell_type": "code",
      "source": "(5 - 1) * ((7 + 1) / (3 - 1))",
      "metadata": {},
      "execution_count": 6,
      "outputs": [
        {
          "execution_count": 6,
          "output_type": "execute_result",
          "data": {
            "text/plain": [
              "16.0"
            ]
          },
          "metadata": {}
        }
      ]
    },
    {
      "cell_type": "markdown",
      "source": "### **Kengaytirilgan tayinlash operatorlari.**",
      "metadata": {}
    },
    {
      "cell_type": "markdown",
      "source": "> Pythonda o'zgaruvchilar ustida matematik amallarni bajarish va natijalarni o'zgaruvchilarga qaytarish uchun ishlatilishi mumkin bo'lgan kengaytirilgan tayinlash operatorlari to'plami mavjud. Ularga misollar quyida keltirilgan.\n\n| Operator |   Ekvivalent  |\n|:--------:|:-------------:|\n| var += 1 | var = var + 1 |\n| var -= 1 | var = var - 1 |\n| var *= 1 | var = var * 1 |\n| var /= 1 | var = var / 1 |\n| var %= 1 | var = var % 1 |",
      "metadata": {}
    },
    {
      "cell_type": "code",
      "source": "greeting = 'Hello'",
      "metadata": {},
      "execution_count": 7,
      "outputs": []
    },
    {
      "cell_type": "code",
      "source": "greeting += ' world!'",
      "metadata": {},
      "execution_count": 8,
      "outputs": []
    },
    {
      "cell_type": "code",
      "source": "greeting",
      "metadata": {},
      "execution_count": 9,
      "outputs": [
        {
          "execution_count": 9,
          "output_type": "execute_result",
          "data": {
            "text/plain": [
              "'Hello world!'"
            ]
          },
          "metadata": {}
        }
      ]
    },
    {
      "cell_type": "code",
      "source": "number = 1",
      "metadata": {},
      "execution_count": 10,
      "outputs": []
    },
    {
      "cell_type": "code",
      "source": "number += 1",
      "metadata": {},
      "execution_count": 11,
      "outputs": []
    },
    {
      "cell_type": "code",
      "source": "number",
      "metadata": {},
      "execution_count": 12,
      "outputs": [
        {
          "execution_count": 12,
          "output_type": "execute_result",
          "data": {
            "text/plain": [
              "2"
            ]
          },
          "metadata": {}
        }
      ]
    },
    {
      "cell_type": "code",
      "source": "my_list = ['item']",
      "metadata": {},
      "execution_count": 13,
      "outputs": []
    },
    {
      "cell_type": "code",
      "source": "my_list *= 3",
      "metadata": {},
      "execution_count": 14,
      "outputs": []
    },
    {
      "cell_type": "code",
      "source": "my_list",
      "metadata": {},
      "execution_count": 15,
      "outputs": [
        {
          "execution_count": 15,
          "output_type": "execute_result",
          "data": {
            "text/plain": [
              "['item', 'item', 'item']"
            ]
          },
          "metadata": {}
        }
      ]
    },
    {
      "cell_type": "markdown",
      "source": "### **Ma’lumot turlari.**",
      "metadata": {}
    },
    {
      "cell_type": "markdown",
      "source": "> Ma'lumotlar turlari kompyuter dasturlarining qurilish bloklari hisoblanadi. Ular ma'lumotlarni kompyuter tushunadigan tarzda saqlash va ko'rsatish uchun ishlatiladi. Python turli xil o'rnatilgan ma'lumotlar turlariga ega.\n\n| Ma’lumot turi                      | Misollar                               |\n|------------------------------------|----------------------------------------|\n| Integer (Butun son)                | **-2, -1, 0, 1, 2, 3, 4, 5**           |\n| Floating-point number (O’nlik son) | **-1.25, -1.0, -0.5, 0.0, 0.5, 1.0, 1.25** |\n| String (Satrli qiymatlar)          | **'a', 'aa', 'aaa', 'Hello!', '11 cats'**  |",
      "metadata": {}
    },
    {
      "cell_type": "markdown",
      "source": "### **Konkatenatsiya va Replikatsiya.**",
      "metadata": {}
    },
    {
      "cell_type": "markdown",
      "source": "> Concatenation - bu ikki yoki undan ortiq satrlarni bitta satrga birlashtirish jarayoni. Pythonda satrlarni birlashtirishning bir necha usullari mavjud. Satrlarni birlashtirish usullaridan biri + operatoridan foydalanishdir.",
      "metadata": {}
    },
    {
      "cell_type": "code",
      "source": "'Alice' + 'Bob'",
      "metadata": {
        "trusted": true
      },
      "execution_count": 1,
      "outputs": [
        {
          "execution_count": 1,
          "output_type": "execute_result",
          "data": {
            "text/plain": "'AliceBob'"
          },
          "metadata": {}
        }
      ]
    },
    {
      "cell_type": "code",
      "source": "'Alice' 'Bob'",
      "metadata": {},
      "execution_count": 17,
      "outputs": [
        {
          "execution_count": 17,
          "output_type": "execute_result",
          "data": {
            "text/plain": [
              "'AliceBob'"
            ]
          },
          "metadata": {}
        }
      ]
    },
    {
      "cell_type": "markdown",
      "source": "> Replication - bu ma'lum bir necha marta takrorlanadigan mavjud satrning nusxasi bo'lgan yangi satr yaratish jarayoni.",
      "metadata": {}
    },
    {
      "cell_type": "code",
      "source": "'Alice' * 5",
      "metadata": {},
      "execution_count": 18,
      "outputs": [
        {
          "execution_count": 18,
          "output_type": "execute_result",
          "data": {
            "text/plain": [
              "'AliceAliceAliceAliceAlice'"
            ]
          },
          "metadata": {}
        }
      ]
    },
    {
      "cell_type": "markdown",
      "source": "### **O’zgaruvchilar.**",
      "metadata": {}
    },
    {
      "cell_type": "markdown",
      "source": ">O'zgaruvchi - bu qiymatni saqlash uchun ishlatilishi mumkin bo'lgan xotiradagi nomlangan joy. O'zgaruvchilar ma'lumotlarni keyinchalik qayta ishlatish uchun saqlash uchun ishlatiladi.",
      "metadata": {}
    },
    {
      "cell_type": "markdown",
      "source": "- Bu faqat bitta so'z bo'lishi mumkin.",
      "metadata": {}
    },
    {
      "cell_type": "code",
      "source": "# bad\nmy variable = 'Hello'",
      "metadata": {},
      "execution_count": 21,
      "outputs": [
        {
          "ename": "SyntaxError",
          "evalue": "invalid syntax (1367609917.py, line 2)",
          "output_type": "error",
          "traceback": [
            "\u001b[1;36m  Cell \u001b[1;32mIn[21], line 2\u001b[1;36m\u001b[0m\n\u001b[1;33m    my variable = 'Hello'\u001b[0m\n\u001b[1;37m       ^\u001b[0m\n\u001b[1;31mSyntaxError\u001b[0m\u001b[1;31m:\u001b[0m invalid syntax\n"
          ]
        }
      ]
    },
    {
      "cell_type": "code",
      "source": "# good\nvar = 'Hello'",
      "metadata": {},
      "execution_count": 20,
      "outputs": []
    },
    {
      "cell_type": "markdown",
      "source": "- U faqat harflar, raqamlar va pastki chiziq ( _) belgisidan foydalanishi mumkin.",
      "metadata": {}
    },
    {
      "cell_type": "code",
      "source": "# bad\n^&%$@variable = 'Hello'",
      "metadata": {},
      "execution_count": 24,
      "outputs": [
        {
          "ename": "SyntaxError",
          "evalue": "invalid syntax (2769600835.py, line 2)",
          "output_type": "error",
          "traceback": [
            "\u001b[1;36m  Cell \u001b[1;32mIn[24], line 2\u001b[1;36m\u001b[0m\n\u001b[1;33m    ^&%$@variable = 'Hello'\u001b[0m\n\u001b[1;37m    ^\u001b[0m\n\u001b[1;31mSyntaxError\u001b[0m\u001b[1;31m:\u001b[0m invalid syntax\n"
          ]
        }
      ]
    },
    {
      "cell_type": "code",
      "source": "# good\nmy_var = 'Hello'",
      "metadata": {},
      "execution_count": 25,
      "outputs": []
    },
    {
      "cell_type": "code",
      "source": "# good\nmy_var_2 = 'Hello'",
      "metadata": {},
      "execution_count": 26,
      "outputs": []
    },
    {
      "cell_type": "markdown",
      "source": "- Bu raqam bilan boshlanmaydi.",
      "metadata": {}
    },
    {
      "cell_type": "code",
      "source": "# it's not working\n23_var = 'hello'",
      "metadata": {},
      "execution_count": 27,
      "outputs": [
        {
          "ename": "SyntaxError",
          "evalue": "invalid decimal literal (767094417.py, line 2)",
          "output_type": "error",
          "traceback": [
            "\u001b[1;36m  Cell \u001b[1;32mIn[27], line 2\u001b[1;36m\u001b[0m\n\u001b[1;33m    23_var = 'hello'\u001b[0m\n\u001b[1;37m      ^\u001b[0m\n\u001b[1;31mSyntaxError\u001b[0m\u001b[1;31m:\u001b[0m invalid decimal literal\n"
          ]
        }
      ]
    },
    {
      "cell_type": "markdown",
      "source": "- Pastki chiziq ( _) bilan boshlangan oʻzgaruvchi nomi “foydasiz” deb hisoblanadi.",
      "metadata": {}
    },
    {
      "cell_type": "code",
      "source": "_spam = 'Hello'",
      "metadata": {},
      "execution_count": 28,
      "outputs": []
    },
    {
      "cell_type": "markdown",
      "source": "### **Kommentariya (izohlar).**",
      "metadata": {}
    },
    {
      "cell_type": "markdown",
      "source": "> Pythondagi izohlar kodni tushuntirish uchun ishlatiladi. Ular Python tarjimoni tomonidan e'tiborga olinmaydi, shuning uchun ular kodning bajarilishiga ta'sir qilmaydi.",
      "metadata": {}
    },
    {
      "cell_type": "code",
      "source": "# One line comment\n\n# Multi line\n# comment\n\na = 1  # code comment",
      "metadata": {},
      "execution_count": 29,
      "outputs": []
    },
    {
      "cell_type": "markdown",
      "source": "> Docstring - modul, class, funksiya yoki modul kabi Python obyektini hujjatlashtirish uchun ishlatiladigan satr. Docstring odatda uch tirnoqli formatda yoziladi va ular Python obyektlari uchun hujjatlarni ko'rsatish uchun o'rnatilgan `help()` funksiyasi kabi vositalar tomonidan qo'llaniladi.",
      "metadata": {}
    },
    {
      "cell_type": "code",
      "source": "def foo():\n    \"\"\"\n    Bu funksiyaga docstring\n    Siz bir tirnoqligidan ham foydalanishingiz mumkin:\n    ''' Function Docstring '''\n    \"\"\"",
      "metadata": {},
      "execution_count": 30,
      "outputs": []
    },
    {
      "cell_type": "markdown",
      "source": "### **print() funksiyasi.**",
      "metadata": {}
    },
    {
      "cell_type": "markdown",
      "source": "> `print()` funktsiyasi o'ziga berilgan argument(lar)ning qiymatini yozadi. U bir nechta argumentlar, float miqdorlar va satrlarni boshqaradi. Satrlar tirnoqsiz chop etiladi va elementlar orasiga bo'sh joy qo'yiladi, shuning uchun qiymatlarni chiroyli formatlashingiz mumkin:",
      "metadata": {}
    },
    {
      "cell_type": "code",
      "source": "print('Hello world!')",
      "metadata": {},
      "execution_count": 31,
      "outputs": [
        {
          "name": "stdout",
          "output_type": "stream",
          "text": "Hello world!\n"
        }
      ]
    },
    {
      "cell_type": "code",
      "source": "a = 1\nprint('Hello world!', a)",
      "metadata": {},
      "execution_count": 32,
      "outputs": [
        {
          "name": "stdout",
          "output_type": "stream",
          "text": "Hello world! 1\n"
        }
      ]
    },
    {
      "cell_type": "markdown",
      "source": "> Yakuniy kalit so'z `(end)` - chiqishdan keyin yangi qatordan qochish yoki chiqishni boshqa belgi bilan tugatish uchun ishlatilishi mumkin.",
      "metadata": {}
    },
    {
      "cell_type": "code",
      "source": "phrase = ['printed', 'with', 'a', 'dash', 'in', 'between']\nfor word in phrase:\n    print(word, end='-')",
      "metadata": {},
      "execution_count": 33,
      "outputs": [
        {
          "name": "stdout",
          "output_type": "stream",
          "text": "printed-with-a-dash-in-between-"
        }
      ]
    },
    {
      "cell_type": "markdown",
      "source": "> `sep` kalit so'zi  - `sep` kalit so'zi, agar obyektlar bir nechta bo'lsa, ularni qanday ajratish kerakligini ko'rsatadi:",
      "metadata": {}
    },
    {
      "cell_type": "code",
      "source": "print('cats', 'dogs', 'mice', sep=',')",
      "metadata": {},
      "execution_count": 34,
      "outputs": [
        {
          "name": "stdout",
          "output_type": "stream",
          "text": "cats,dogs,mice\n"
        }
      ]
    },
    {
      "cell_type": "markdown",
      "source": "### **input() funksiyasi.**",
      "metadata": {}
    },
    {
      "cell_type": "markdown",
      "source": "> `input()` funksiyasi - foydalanuvchidan ma'lumot oladi va uni satrga aylantiradi.",
      "metadata": {}
    },
    {
      "cell_type": "code",
      "source": "print('What is your name?')\nmy_name = input()\nprint('Hi, {}'.format(my_name))",
      "metadata": {},
      "execution_count": 35,
      "outputs": [
        {
          "name": "stdout",
          "output_type": "stream",
          "text": "What is your name?\n\nHi, Admin\n"
        }
      ]
    },
    {
      "cell_type": "markdown",
      "source": "> `print()`  dan foydalanmasdan ham `input()` standart xabarni o'rnatishi mumkin.",
      "metadata": {}
    },
    {
      "cell_type": "code",
      "source": "my_name = input('What is your name? ')\nprint('Hi, {}'.format(my_name))",
      "metadata": {},
      "execution_count": 36,
      "outputs": [
        {
          "name": "stdout",
          "output_type": "stream",
          "text": "Hi, User\n"
        }
      ]
    },
    {
      "cell_type": "markdown",
      "source": "> `.format` dan foydalanmaslik uchun f satrlardan foydalanish ham mumkin:",
      "metadata": {}
    },
    {
      "cell_type": "code",
      "source": "my_name = input('What is your name? ')  # default message\nprint(f'Hi, {my_name}')",
      "metadata": {},
      "execution_count": 37,
      "outputs": [
        {
          "name": "stdout",
          "output_type": "stream",
          "text": "Hi, User\n"
        }
      ]
    },
    {
      "cell_type": "markdown",
      "source": "### **len() funksiyasi.**",
      "metadata": {}
    },
    {
      "cell_type": "markdown",
      "source": "> `len()` funksiyasi - satr, roʻyxat, lugʻat va boshqalardagi belgilar sonining butun qiymatini qaytaradi!",
      "metadata": {}
    },
    {
      "cell_type": "code",
      "source": "len('hello')",
      "metadata": {},
      "execution_count": 38,
      "outputs": [
        {
          "execution_count": 38,
          "output_type": "execute_result",
          "data": {
            "text/plain": [
              "5"
            ]
          },
          "metadata": {}
        }
      ]
    },
    {
      "cell_type": "code",
      "source": "len(['cat', 3, 'dog'])",
      "metadata": {},
      "execution_count": 39,
      "outputs": [
        {
          "execution_count": 39,
          "output_type": "execute_result",
          "data": {
            "text/plain": [
              "3"
            ]
          },
          "metadata": {}
        }
      ]
    },
    {
      "cell_type": "markdown",
      "source": "> Satrlar, ro'yxatlar, lug'atlar va boshqalarning bo'shlig’i testida len dan foydalanmaslik kerak, lekin to'g'ridan-to'g'ri mantiqiy baholashni afzal ko'rish kerak.",
      "metadata": {}
    },
    {
      "cell_type": "code",
      "source": "a = [1, 2, 3]",
      "metadata": {},
      "execution_count": 40,
      "outputs": []
    },
    {
      "cell_type": "code",
      "source": "# bad\nif len(a) > 0:  # evaluates to True\n    print(\"the list is not empty!\")\n\n# the list is not empty!",
      "metadata": {},
      "execution_count": 41,
      "outputs": [
        {
          "name": "stdout",
          "output_type": "stream",
          "text": "the list is not empty!\n"
        }
      ]
    },
    {
      "cell_type": "code",
      "source": "# good\nif a: # evaluates to True\n    print(\"the list is not empty!\")\n\n# the list is not empty!",
      "metadata": {},
      "execution_count": 42,
      "outputs": [
        {
          "name": "stdout",
          "output_type": "stream",
          "text": "the list is not empty!\n"
        }
      ]
    },
    {
      "cell_type": "markdown",
      "source": "### **str(), int() va float() funksiyalari.**",
      "metadata": {}
    },
    {
      "cell_type": "markdown",
      "source": "> `int()`, `float()`, `bool()` va `str()` - ushbu funksiyalar o'zgaruvchining turini o'zgartirishga imkon beradi.",
      "metadata": {}
    },
    {
      "cell_type": "code",
      "source": "str(29)",
      "metadata": {},
      "execution_count": 43,
      "outputs": [
        {
          "execution_count": 43,
          "output_type": "execute_result",
          "data": {
            "text/plain": [
              "'29'"
            ]
          },
          "metadata": {}
        }
      ]
    },
    {
      "cell_type": "code",
      "source": "str(-3.14)",
      "metadata": {},
      "execution_count": 44,
      "outputs": [
        {
          "execution_count": 44,
          "output_type": "execute_result",
          "data": {
            "text/plain": [
              "'-3.14'"
            ]
          },
          "metadata": {}
        }
      ]
    },
    {
      "cell_type": "code",
      "source": "int('11')",
      "metadata": {},
      "execution_count": 45,
      "outputs": [
        {
          "execution_count": 45,
          "output_type": "execute_result",
          "data": {
            "text/plain": [
              "11"
            ]
          },
          "metadata": {}
        }
      ]
    },
    {
      "cell_type": "code",
      "source": "float('3.14')",
      "metadata": {},
      "execution_count": 46,
      "outputs": [
        {
          "execution_count": 46,
          "output_type": "execute_result",
          "data": {
            "text/plain": [
              "3.14"
            ]
          },
          "metadata": {}
        }
      ]
    },
    {
      "cell_type": "code",
      "source": "bool(1)",
      "metadata": {},
      "execution_count": 47,
      "outputs": [
        {
          "execution_count": 47,
          "output_type": "execute_result",
          "data": {
            "text/plain": [
              "True"
            ]
          },
          "metadata": {}
        }
      ]
    }
  ]
}